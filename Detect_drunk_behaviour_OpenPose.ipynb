{
  "cells": [
    {
      "cell_type": "markdown",
      "metadata": {
        "id": "X38L6tanrnrB"
      },
      "source": [
        "# Pose Detection and Matching with OpenPose\n",
        "\n",
        "This notebook uses an open source project [CMU-Perceptual-Computing-Lab/openpose](https://github.com/CMU-Perceptual-Computing-Lab/openpose.git) to detect/track multi person poses and similarity matching between those poses.\n",
        "\n",
        "## Install OpenPose"
      ]
    },
    {
      "cell_type": "code",
      "execution_count": null,
      "metadata": {
        "id": "FOdkDhb6ga6N"
      },
      "outputs": [],
      "source": [
        "import os\n",
        "from os.path import exists, join, basename, splitext\n",
        "\n",
        "git_repo_url = 'https://github.com/CMU-Perceptual-Computing-Lab/openpose.git'\n",
        "project_name = splitext(basename(git_repo_url))[0]\n",
        "if not exists(project_name):\n",
        "  # see: https://github.com/CMU-Perceptual-Computing-Lab/openpose/issues/949\n",
        "  # install new CMake becaue of CUDA10\n",
        "  !wget -q https://cmake.org/files/v3.13/cmake-3.13.0-Linux-x86_64.tar.gz\n",
        "  !tar xfz cmake-3.13.0-Linux-x86_64.tar.gz --strip-components=1 -C /usr/local\n",
        "  # clone openpose\n",
        "  !git clone -q --depth 1 $git_repo_url\n",
        "  !sed -i 's/execute_process(COMMAND git checkout master WORKING_DIRECTORY ${CMAKE_SOURCE_DIR}\\/3rdparty\\/caffe)/execute_process(COMMAND git checkout f019d0dfe86f49d1140961f8c7dec22130c83154 WORKING_DIRECTORY ${CMAKE_SOURCE_DIR}\\/3rdparty\\/caffe)/g' openpose/CMakeLists.txt\n",
        "  # install system dependencies\n",
        "  !apt-get -qq install -y libatlas-base-dev libprotobuf-dev libleveldb-dev libsnappy-dev libhdf5-serial-dev protobuf-compiler libgflags-dev libgoogle-glog-dev liblmdb-dev opencl-headers ocl-icd-opencl-dev libviennacl-dev\n",
        "  # install python dependencies\n",
        "  !pip install -q youtube-dl\n",
        "  # build openpose\n",
        "  !cd openpose && rm -rf build || true && mkdir build && cd build && cmake -DBUILD_PYTHON=ON .. && make -j`nproc`\n",
        "!mkdir openpose/images openpose/videos "
      ]
    },
    {
      "cell_type": "code",
      "source": [
        "#!rm -r /content/openpose"
      ],
      "metadata": {
        "id": "GCUbr2VqupLj"
      },
      "execution_count": 13,
      "outputs": []
    },
    {
      "cell_type": "code",
      "source": [
        "!pip install pykalman\n",
        "!pip install pygame"
      ],
      "metadata": {
        "colab": {
          "base_uri": "https://localhost:8080/"
        },
        "id": "3TsW9mzeVUII",
        "outputId": "9d292ccc-f886-48e4-984f-7caec1687d22"
      },
      "execution_count": 18,
      "outputs": [
        {
          "output_type": "stream",
          "name": "stdout",
          "text": [
            "Requirement already satisfied: pykalman in /usr/local/lib/python3.7/dist-packages (0.9.5)\n",
            "Collecting pygame\n",
            "  Downloading pygame-2.1.2-cp37-cp37m-manylinux_2_17_x86_64.manylinux2014_x86_64.whl (21.8 MB)\n",
            "\u001b[K     |████████████████████████████████| 21.8 MB 99.3 MB/s \n",
            "\u001b[?25hInstalling collected packages: pygame\n",
            "Successfully installed pygame-2.1.2\n"
          ]
        }
      ]
    },
    {
      "cell_type": "markdown",
      "source": [
        "# copy the deep sort data and utils files"
      ],
      "metadata": {
        "id": "tazkjJdPVfGG"
      }
    },
    {
      "cell_type": "code",
      "source": [
        "from google.colab import drive\n",
        "drive.mount('/content/drive')"
      ],
      "metadata": {
        "colab": {
          "base_uri": "https://localhost:8080/"
        },
        "id": "d4Pe54XGjl_e",
        "outputId": "902d1d2a-6774-4abd-968c-bb5912690a8f"
      },
      "execution_count": 15,
      "outputs": [
        {
          "output_type": "stream",
          "name": "stdout",
          "text": [
            "Mounted at /content/drive\n"
          ]
        }
      ]
    },
    {
      "cell_type": "code",
      "execution_count": null,
      "metadata": {
        "id": "mbIRXf71Xbqw"
      },
      "outputs": [],
      "source": [
        "!cp -av '/content/drive/MyDrive/GDP/Openpose_deepsort/deep_sort' '/content/'\n",
        "!cp -av '/content/drive/MyDrive/GDP/Openpose_deepsort/model_data' '/content/'\n",
        "!cp -av '/content/drive/MyDrive/GDP/Openpose_deepsort/tools' '/content/'\n",
        "!cp -av '/content/drive/MyDrive/GDP/Openpose_deepsort/CSA_data' '/content/'"
      ]
    },
    {
      "cell_type": "code",
      "execution_count": 1,
      "metadata": {
        "colab": {
          "base_uri": "https://localhost:8080/"
        },
        "id": "IZPWnrM0xamJ",
        "outputId": "140d7d77-1911-4e07-8c10-12caa792c57e"
      },
      "outputs": [
        {
          "output_type": "stream",
          "name": "stdout",
          "text": [
            "pygame 2.1.2 (SDL 2.0.16, Python 3.7.13)\n",
            "Hello from the pygame community. https://www.pygame.org/contribute.html\n"
          ]
        }
      ],
      "source": [
        "# Import general libraries\n",
        "# -*- coding: utf-8 -*-\n",
        "import cv2\n",
        "import sys\n",
        "import time\n",
        "import numpy as np\n",
        "import pygame\n",
        "import os \n",
        "import warnings\n",
        "import glob\n",
        "import pandas as pd\n",
        "from google.colab.patches import cv2_imshow\n",
        "warnings.simplefilter(action='ignore', category=FutureWarning)\n",
        "\n",
        "# Define Openpose directory destination\n",
        "OpenposeDir = '/content/openpose/'\n",
        "\n",
        "# Set Python Openpose Directory for python api (Important)\n",
        "pyopenpose_dir = os.path.join(OpenposeDir,'build','python') # ex: '/content/openpose/build/python'\n",
        "if pyopenpose_dir not in sys.path:\n",
        "    sys.path.append(pyopenpose_dir)\n",
        "from openpose import pyopenpose as op\n",
        "\n",
        "from deep_sort.iou_matching import iou_cost\n",
        "from deep_sort.kalman_filter import KalmanFilter\n",
        "from deep_sort.detection import Detection\n",
        "from deep_sort.tracker import Tracker as DeepTracker\n",
        "from deep_sort import nn_matching\n",
        "from deep_sort import preprocessing\n",
        "from deep_sort.linear_assignment import min_cost_matching\n",
        "from deep_sort.detection import Detection as ddet\n",
        "from tools import generate_detections as gdet\n",
        "from utils import Updated_keypoint, pose2box, updated_boxes, calc_motion_efficiency, cal_S\n",
        "import matplotlib.pyplot as plt\n",
        "from collections import defaultdict\n",
        "import Constants\n",
        "import datetime"
      ]
    },
    {
      "cell_type": "code",
      "execution_count": 2,
      "metadata": {
        "id": "hS0InHUwX5xV",
        "cellView": "form"
      },
      "outputs": [],
      "source": [
        "#@title\n",
        "import numpy as np\n",
        "from scipy.signal import savgol_filter\n",
        "\n",
        "def smooth_curve(path):\n",
        "    x = []\n",
        "    y = []\n",
        "\n",
        "    n = 0\n",
        "    for i, j in path:\n",
        "        if n%4 == 0:\n",
        "            x.append(i)\n",
        "            y.append(j)\n",
        "            n +=1\n",
        "\n",
        "    x = np.array(x)\n",
        "    y = np.array(y)\n",
        "\n",
        "    t = len(x)-1\n",
        "    c = int(t)-3 if t%2 == 0 else int(t)-2\n",
        "    yhat = savgol_filter(y, c, t)\n",
        "\n",
        "    curve = np.column_stack((x.astype(np.int32), yhat.astype(np.int32)))\n",
        "    return curve\n",
        "\n"
      ]
    },
    {
      "cell_type": "code",
      "execution_count": 28,
      "metadata": {
        "id": "LUH98JF3OXff"
      },
      "outputs": [],
      "source": [
        "# Define standard thresholds for calculations\n",
        "\n",
        "sm_p = Constants.sm_p\n",
        "T_mh = Constants.T_mh\n",
        "T_ml = Constants.T_ml\n",
        "sigma_m = Constants.sigma_m"
      ]
    },
    {
      "cell_type": "code",
      "execution_count": 32,
      "metadata": {
        "id": "TTVaOzlK2Kqv"
      },
      "outputs": [],
      "source": [
        "dataset['pred_label'] = [0, 0, 1, 0, 0, 0, 0, 1, 0, 0, 0, 1, 0, 0, 0, 0, 0, 0, 0, 0, 0, 0, 0, 0, 0]"
      ]
    },
    {
      "cell_type": "code",
      "source": [
        "import argparse\n",
        "\n",
        "def parse_args():\n",
        "    \"\"\"Parse command line arguments.\n",
        "    \"\"\"\n",
        "    parser = argparse.ArgumentParser(description=\"Re-ID feature extractor\")\n",
        "    parser.add_argument(\n",
        "        \"--model\",\n",
        "        default=\"resources/networks/mars-small128.pb\",\n",
        "        help=\"Path to freezed inference graph protobuf.\")\n",
        "    parser.add_argument(\n",
        "        \"--mot_dir\", help=\"Path to MOTChallenge directory (train or test)\",\n",
        "        required=True)\n",
        "    parser.add_argument(\n",
        "        \"--detection_dir\", help=\"Path to custom detections. Defaults to \"\n",
        "        \"standard MOT detections Directory structure should be the default \"\n",
        "        \"MOTChallenge structure: [sequence]/det/det.txt\", default=None)\n",
        "    parser.add_argument(\n",
        "        \"--output_dir\", help=\"Output directory. Will be created if it does not\"\n",
        "        \" exist.\", default=\"detections\")\n",
        "\n",
        "    return parser.parse_args()\n",
        "\n",
        "\n",
        "def main():\n",
        "    args = parse_args()\n",
        "\n",
        "\n",
        "if __name__ == \"__main__\":\n",
        "    main()"
      ],
      "metadata": {
        "id": "GNA9Ea-IbZ0R"
      },
      "execution_count": null,
      "outputs": []
    },
    {
      "cell_type": "code",
      "execution_count": null,
      "metadata": {
        "id": "Y3lhOwGEeVCv"
      },
      "outputs": [],
      "source": [
        "\n",
        "cap = cv2.VideoCapture('/content/CSA_data/enacted_drunk/10_drunk.mp4')\n",
        "\n",
        "# Default resolutions of the frame are obtained.The default resolutions are system dependent.\n",
        "# We convert the resolutions from float to integer.\n",
        "fps = cap.get(cv2.CAP_PROP_FPS)\n",
        "frame_width = int(cap.get(cv2.CAP_PROP_FRAME_WIDTH))\n",
        "frame_height = int(cap.get(cv2.CAP_PROP_FRAME_HEIGHT))\n",
        "\n",
        "#from openpose import *\n",
        "params = dict()\n",
        "params[\"model_folder\"] = os.path.join(OpenposeDir,'models')\n",
        "params[\"net_resolution\"] = \"-1x320\"\n",
        "\n",
        "# Starting OpenPose\n",
        "opWrapper = op.WrapperPython()\n",
        "opWrapper.configure(params)\n",
        "opWrapper.start()\n",
        "\n",
        "max_cosine_distance = Constants.max_cosine_distance\n",
        "nn_budget = Constants.nn_budget\n",
        "nms_max_overlap = Constants.nms_max_overlap\n",
        "max_age = Constants.max_age\n",
        "n_init = Constants.n_init\n",
        "\n",
        "model_filename = '/content/model_data/mars-small128.pb'\n",
        "encoder = gdet.create_box_encoder(model_filename,batch_size=1)\n",
        "metric = nn_matching.NearestNeighborDistanceMetric(\"cosine\", \\\n",
        "                                                max_cosine_distance, \\\n",
        "                                                nn_budget)\n",
        "tracker = DeepTracker(metric)\n",
        "\n",
        "centroid_dict = defaultdict(list)\n",
        "object_id_list = []\n",
        "\n",
        "sm_initial = 0\n",
        "starting_line = Constants.starting_line\n",
        "\n",
        "frames = []\n",
        "while True:\n",
        "    ret, frame = cap.read()\n",
        "\n",
        "    if ret:\n",
        "        frame = cv2.cvtColor(frame, cv2.COLOR_BGR2RGB)\n",
        "        # frame = cv2.rotate(frame, cv2.ROTATE_90_COUNTERCLOCKWISE)\n",
        "        frame = frame[210:]\n",
        "        height, width, layers = frame.shape\n",
        "\n",
        "        datum = op.Datum()\n",
        "        input_image = frame # Change Image Here\n",
        "        datum.cvInputData = input_image\n",
        "        opWrapper.emplaceAndPop(op.VectorDatum([datum]))\n",
        "        keypoints = np.array(datum.poseKeypoints)\n",
        "        #Add openpose results to my current frame\n",
        "        keypoints = Updated_keypoint(keypoints)\n",
        "        \n",
        "        try:\n",
        "            # Doesn't use keypoint confidence\n",
        "            poses = keypoints[:,:,:2]\n",
        "            # Get containing box for each seen body\n",
        "            boxes = pose2box(poses)\n",
        "            boxes = updated_boxes(boxes, starting_line, height)\n",
        "            boxes_xywh = [[x1,y1,x2-x1,y2-y1] for [x1,y1,x2,y2] in boxes]\n",
        "            features = encoder(input_image, boxes_xywh)\n",
        "\n",
        "            nonempty = lambda xywh: xywh[2] != 0 and xywh[3] != 0\n",
        "            detections = [Detection(bbox, 1.0, feature, pose)\\\n",
        "                        for bbox, feature, pose in zip(boxes_xywh, features, poses)\\\n",
        "                        if nonempty(bbox)]\n",
        "\n",
        "            # Run non-maxima suppression.\n",
        "            boxes_det = np.array([d.tlwh for d in detections])\n",
        "            scores = np.array([d.confidence for d in detections])\n",
        "            indices = preprocessing.non_max_suppression(boxes_det, \\\n",
        "                                                        nms_max_overlap, scores)\n",
        "            detections = [detections[i] for i in indices]\n",
        "\n",
        "            # Using Deep SORT to track the actual frame\n",
        "            tracker.predict()\n",
        "            tracker.update(input_image, detections)\n",
        "            \n",
        "            for track in tracker.tracks:\n",
        "                bbox = track.to_tlbr()\n",
        "                objectID = '{}'.format(track.track_id)\n",
        "                #print(objectID)\n",
        "                x1, y1, x2, y2 = bbox\n",
        "\n",
        "                x1 = int(x1)\n",
        "                y1 = int(y1)\n",
        "                x2 = int(x2)\n",
        "                y2 = int(y2)\n",
        "\n",
        "                cX = int((x1 + x2) / 2.0)\n",
        "                cY = int(y2)\n",
        "                drunk = False\n",
        "                if (y2 < (height * 90/100) \\\n",
        "                    and  cY > (height * 10/100) \\\n",
        "                    and x1 > 30 and x2 < width - 30):\n",
        "                    centroid_dict[objectID].append((cX, cY))\n",
        "                    #print(len(centroid_dict[objectID]))\n",
        "                    if objectID not in object_id_list:\n",
        "                        object_id_list.append(objectID)\n",
        "                        start_pt = (cX, cY)\n",
        "                        end_pt = (cX, cY)\n",
        "                        cv2.line(input_image, start_pt, end_pt, (0, 255, 0), 2)\n",
        "                    else:\n",
        "                        path = centroid_dict[objectID]\n",
        "                        cal_path = []\n",
        "                        for i in range(0, len(path), 7):\n",
        "                            cal_path.append(path[i])\n",
        "                        #print(cal_path)\n",
        "\n",
        "                        if len(cal_path) > 2 and len(cal_path) < 20:\n",
        "                            #print(len(centroid_dict[objectID]))\n",
        "                            cal_path = np.array(cal_path, np.int32)\n",
        "                            cv2.polylines(input_image, [cal_path.reshape((-1, 1, 2))],\\\n",
        "                                        False, (0,255,255), 3)\n",
        "\n",
        "                        elif  len(cal_path) >= 20:\n",
        "                            #print(len(centroid_dict[objectID]))\n",
        "                            cal_path = np.array(cal_path[-20:-1], np.int32)\n",
        "                            cv2.polylines(input_image, [cal_path.reshape((-1, 1, 2))], \\\n",
        "                                        False, (0,255,255), 3)\n",
        "\n",
        "                        \n",
        "                        cal_path_sm = []\n",
        "                        for i in range(0, len(path), 3):\n",
        "                            cal_path_sm.append(path[i])\n",
        "                        if len(cal_path_sm) > 7:\n",
        "                            motion_efficiency = calc_motion_efficiency(cal_path_sm[-8:-1])\n",
        "                            lambd_pt = 1 - motion_efficiency\n",
        "                            #print(cal_path)\n",
        "\n",
        "                            if  objectID not in sm_p.keys():\n",
        "                                sm = cal_S(lambd_pt, T_mh, T_ml, sigma_m, sm_initial)\n",
        "                                sm_p[objectID] = sm\n",
        "                                drunk = True if sm_p[objectID] > 16 else False\n",
        "                                #print(objectID, '---------',lambd_pt, sm, sm_p[objectID])\n",
        "                                \n",
        "                            else:\n",
        "                                sm = cal_S(lambd_pt, T_mh, T_ml, sigma_m, sm_p[objectID])\n",
        "                                sm_p[objectID] = sm\n",
        "                                drunk = True if sm_p[objectID] > 16 else False\n",
        "                                #print(objectID, '---------',lambd_pt, sm, sm_p[objectID])\n",
        "\n",
        "                if drunk:\n",
        "                    color = (255,0,0)\n",
        "                    cv2.rectangle(input_image, (x1-40, y1), (x1-10, y2), color, -1)\n",
        "                    text = 'Drunk'\n",
        "                    cv2.putText(input_image, text, (x1, y1-5), cv2.FONT_HERSHEY_COMPLEX_SMALL, 2, color, 2)\n",
        "                        \n",
        "                #else:\n",
        "                    # color = (255,255,0)\n",
        "                    # cv2.rectangle(input_image, (x1-40, y1), (x1-10, y2), color, -1)\n",
        "                    # text = 'Normal'\n",
        "                    # cv2.putText(input_image, text, (x1, y1-5), cv2.FONT_HERSHEY_COMPLEX_SMALL, 4, (0, 0, 255), 4)\n",
        "        \n",
        "            frames.append(input_image)\n",
        "            plt.imshow(input_image)\n",
        "            plt.show()\n",
        "            \n",
        "        except:\n",
        "            pass\n",
        "\n",
        "    else:\n",
        "        # Break when finished\n",
        "        print(\"Frame Extracting Finished\")\n",
        "        break\n",
        "\n",
        "\n",
        "cap.release()\n",
        "\n",
        "height, width, layers = frames[0].shape\n",
        "size = (width,height)\n",
        "\n",
        "# Define the codec and create VideoWriter object\n",
        "name = video + '.avi'\n",
        "# Write Video Frame\n",
        "out = cv2.VideoWriter(name ,cv2.VideoWriter_fourcc(*'DIVX'), fps, size)\n",
        "for i in range(len(frames)):\n",
        "    out.write(frames[i])\n",
        "\n",
        "# When everything done, release the video capture and video write objects\n",
        "out.release()"
      ]
    },
    {
      "cell_type": "code",
      "execution_count": 26,
      "metadata": {
        "id": "C0lwN1M20uh_"
      },
      "outputs": [],
      "source": [
        "import seaborn as sns\n",
        "from sklearn import metrics\n",
        "\n",
        "def bin_metrics(y_test, y_pred):\n",
        "    \n",
        "    fpr, tpr, thresh_roc = metrics.roc_curve(y_test, y_pred)\n",
        "    roc_auc = metrics.auc(fpr, tpr)\n",
        "    \n",
        "    print('-----------------------------------------------------------')\n",
        "    print('Confusion Matrix:')\n",
        "    print(metrics.confusion_matrix(y_test, y_pred))\n",
        "    print('\\nClassification Report:')\n",
        "    print(metrics.classification_report(y_test, y_pred))\n",
        "\n",
        "    print('\\n-----------------------------------------------------------\\n')\n",
        "    sns.heatmap(metrics.confusion_matrix(y_test, y_pred), annot = True)\n",
        "    plt.show()\n",
        "    plt.title('Receiver Operating Characteristic')\n",
        "    plt.plot(fpr, tpr,  label = 'AUC = %0.2f' % roc_auc)\n",
        "    plt.legend(loc = 'lower right')\n",
        "    plt.plot([0, 1], [0, 1],'r--')\n",
        "    plt.ylabel('True Positive Rate')\n",
        "    plt.xlabel('False Positive Rate')\n",
        "    plt.show()\n"
      ]
    },
    {
      "cell_type": "code",
      "execution_count": 27,
      "metadata": {
        "colab": {
          "base_uri": "https://localhost:8080/",
          "height": 864
        },
        "id": "FAFx-x0N9B32",
        "outputId": "273cb268-92bd-46a8-eb5d-0471f78c073e"
      },
      "outputs": [
        {
          "output_type": "stream",
          "name": "stdout",
          "text": [
            "-----------------------------------------------------------\n",
            "Confusion Matrix:\n",
            "[[15  0]\n",
            " [ 0 10]]\n",
            "\n",
            "Classification Report:\n",
            "              precision    recall  f1-score   support\n",
            "\n",
            "           0       1.00      1.00      1.00        15\n",
            "           1       1.00      1.00      1.00        10\n",
            "\n",
            "    accuracy                           1.00        25\n",
            "   macro avg       1.00      1.00      1.00        25\n",
            "weighted avg       1.00      1.00      1.00        25\n",
            "\n",
            "\n",
            "-----------------------------------------------------------\n",
            "\n"
          ]
        },
        {
          "output_type": "display_data",
          "data": {
            "text/plain": [
              "<Figure size 432x288 with 2 Axes>"
            ],
            "image/png": "[encoded data removed]"
          },
          "metadata": {
            "needs_background": "light"
          }
        },
        {
          "output_type": "display_data",
          "data": {
            "text/plain": [
              "<Figure size 432x288 with 1 Axes>"
            ],
            "image/png": "[encoded data removed]"
          },
          "metadata": {
            "needs_background": "light"
          }
        }
      ],
      "source": [
        "bin_metrics(data.label, data.label)"
      ]
    },
    {
      "cell_type": "code",
      "execution_count": null,
      "metadata": {
        "id": "g9FvS5Yt9L8I"
      },
      "outputs": [],
      "source": [
        ""
      ]
    }
  ],
  "metadata": {
    "accelerator": "GPU",
    "colab": {
      "collapsed_sections": [],
      "name": "Detect_drunk_behaviour_OpenPose.ipynb",
      "provenance": []
    },
    "kernelspec": {
      "display_name": "Python 3",
      "name": "python3"
    }
  },
  "nbformat": 4,
  "nbformat_minor": 0
}
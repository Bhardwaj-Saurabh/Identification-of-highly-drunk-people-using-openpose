{
  "cells": [
    {
      "cell_type": "markdown",
      "metadata": {
        "id": "X38L6tanrnrB"
      },
      "source": [
        "# Pose Detection and Matching with OpenPose\n",
        "\n",
        "This notebook uses an open source project [CMU-Perceptual-Computing-Lab/openpose](https://github.com/CMU-Perceptual-Computing-Lab/openpose.git) to detect/track multi person poses and similarity matching between those poses.\n",
        "\n",
        "## Install OpenPose"
      ]
    },
    {
      "cell_type": "code",
      "execution_count": null,
      "metadata": {
        "id": "FOdkDhb6ga6N"
      },
      "outputs": [],
      "source": [
        "import os\n",
        "from os.path import exists, join, basename, splitext\n",
        "\n",
        "git_repo_url = 'https://github.com/CMU-Perceptual-Computing-Lab/openpose.git'\n",
        "project_name = splitext(basename(git_repo_url))[0]\n",
        "if not exists(project_name):\n",
        "  # see: https://github.com/CMU-Perceptual-Computing-Lab/openpose/issues/949\n",
        "  # install new CMake becaue of CUDA10\n",
        "  !wget -q https://cmake.org/files/v3.13/cmake-3.13.0-Linux-x86_64.tar.gz\n",
        "  !tar xfz cmake-3.13.0-Linux-x86_64.tar.gz --strip-components=1 -C /usr/local\n",
        "  # clone openpose\n",
        "  !git clone -q --depth 1 $git_repo_url\n",
        "  !sed -i 's/execute_process(COMMAND git checkout master WORKING_DIRECTORY ${CMAKE_SOURCE_DIR}\\/3rdparty\\/caffe)/execute_process(COMMAND git checkout f019d0dfe86f49d1140961f8c7dec22130c83154 WORKING_DIRECTORY ${CMAKE_SOURCE_DIR}\\/3rdparty\\/caffe)/g' openpose/CMakeLists.txt\n",
        "  # install system dependencies\n",
        "  !apt-get -qq install -y libatlas-base-dev libprotobuf-dev libleveldb-dev libsnappy-dev libhdf5-serial-dev protobuf-compiler libgflags-dev libgoogle-glog-dev liblmdb-dev opencl-headers ocl-icd-opencl-dev libviennacl-dev\n",
        "  # install python dependencies\n",
        "  !pip install -q youtube-dl\n",
        "  # build openpose\n",
        "  !cd openpose && rm -rf build || true && mkdir build && cd build && cmake -DBUILD_PYTHON=ON .. && make -j`nproc`\n",
        "!mkdir openpose/images openpose/videos "
      ]
    },
    {
      "cell_type": "code",
      "source": [
        "!pip install pygame\n",
        "!pip install pykalman"
      ],
      "metadata": {
        "id": "3TsW9mzeVUII"
      },
      "execution_count": null,
      "outputs": []
    },
    {
      "cell_type": "markdown",
      "source": [
        "# copy the deep sort data and utils files"
      ],
      "metadata": {
        "id": "tazkjJdPVfGG"
      }
    },
    {
      "cell_type": "code",
      "execution_count": null,
      "metadata": {
        "id": "mbIRXf71Xbqw"
      },
      "outputs": [],
      "source": [
        "!cp -av '/content/drive/MyDrive/GDP/Openpose_deepsort' '/content/'"
      ]
    },
    {
      "cell_type": "code",
      "execution_count": null,
      "metadata": {
        "colab": {
          "base_uri": "https://localhost:8080/"
        },
        "id": "IZPWnrM0xamJ",
        "outputId": "ee88f29e-047d-4c9e-c4ac-70660524a839"
      },
      "outputs": [
        {
          "output_type": "stream",
          "name": "stdout",
          "text": [
            "pygame 2.1.2 (SDL 2.0.16, Python 3.7.13)\n",
            "Hello from the pygame community. https://www.pygame.org/contribute.html\n"
          ]
        }
      ],
      "source": [
        "# Import general libraries\n",
        "# -*- coding: utf-8 -*-\n",
        "import cv2\n",
        "import sys\n",
        "import time\n",
        "import numpy as np\n",
        "import pygame\n",
        "import os \n",
        "import sys\n",
        "import warnings\n",
        "from google.colab.patches import cv2_imshow\n",
        "warnings.simplefilter(action='ignore', category=FutureWarning)\n",
        "\n",
        "\n",
        "# Define Openpose directory destination\n",
        "OpenposeDir = '/content/openpose/'\n",
        "\n",
        "# Set Python Openpose Directory for python api (Important)\n",
        "pyopenpose_dir = os.path.join(OpenposeDir,'build','python') # ex: '/content/openpose/build/python'\n",
        "if pyopenpose_dir not in sys.path:\n",
        "    sys.path.append(pyopenpose_dir)\n",
        "from openpose import pyopenpose as op\n",
        "\n",
        "from deep_sort.iou_matching import iou_cost\n",
        "from deep_sort.kalman_filter import KalmanFilter\n",
        "from deep_sort.detection import Detection\n",
        "from deep_sort.tracker import Tracker as DeepTracker\n",
        "from deep_sort import nn_matching\n",
        "from deep_sort import preprocessing\n",
        "from deep_sort.linear_assignment import min_cost_matching\n",
        "from deep_sort.detection import Detection as ddet\n",
        "from tools import generate_detections as gdet\n",
        "from utils import poses2boxes\n",
        "import matplotlib.pyplot as plt\n",
        "from collections import defaultdict\n",
        "import Constants\n",
        "import datetime"
      ]
    },
    {
      "cell_type": "code",
      "execution_count": null,
      "metadata": {
        "id": "hS0InHUwX5xV",
        "cellView": "form"
      },
      "outputs": [],
      "source": [
        "#@title\n",
        "import numpy as np\n",
        "from scipy.signal import savgol_filter\n",
        "\n",
        "def smooth_curve(path):\n",
        "    x = []\n",
        "    y = []\n",
        "\n",
        "    n = 0\n",
        "    for i, j in path:\n",
        "        if n%4 == 0:\n",
        "            x.append(i)\n",
        "            y.append(j)\n",
        "            n +=1\n",
        "\n",
        "    x = np.array(x)\n",
        "    y = np.array(y)\n",
        "\n",
        "    t = len(x)-1\n",
        "    c = int(t)-3 if t%2 == 0 else int(t)-2\n",
        "    yhat = savgol_filter(y, c, t)\n",
        "\n",
        "    curve = np.column_stack((x.astype(np.int32), yhat.astype(np.int32)))\n",
        "    return curve\n",
        "\n"
      ]
    },
    {
      "cell_type": "code",
      "execution_count": null,
      "metadata": {
        "id": "ihOWKh2ZqsIY"
      },
      "outputs": [],
      "source": [
        "def Updated_keypoint():\n",
        "    keypoints = np.array(datum.poseKeypoints)\n",
        "    if keypoints.all() != None:\n",
        "        scores = keypoints[:,:,2]\n",
        "        idx = []\n",
        "        for i in range(len(scores)):\n",
        "            nose = scores[i][0]\n",
        "            RAnkle = scores[i][11]\n",
        "            LAnkle = scores[i][14]\n",
        "            RShoulder = scores[i][2]\n",
        "            LShoulder = scores[i][5]\n",
        "\n",
        "            if nose < 0.1  and RAnkle < 0.5 and LAnkle < 0.5 and RShoulder < 0.2\\\n",
        "             and LShoulder < 0.2:\n",
        "                idx.append(i)\n",
        "\n",
        "        update_kp = np.delete(keypoints, idx, 0)\n",
        "        return update_kp\n",
        "    else:\n",
        "        return None"
      ]
    },
    {
      "cell_type": "code",
      "execution_count": null,
      "metadata": {
        "id": "CHI7dO4ng5t4"
      },
      "outputs": [],
      "source": [
        "def updated_boxes(boxes, starting_line, frame_height):\n",
        "\n",
        "    update_box = []\n",
        "    for i in range(len(boxes)):\n",
        "        x1,y1,x2,y2 = boxes[i]\n",
        "        h = y2 - y1\n",
        "        if h > 50 and y2 > starting_line:\n",
        "            update_box.append(boxes[i])\n",
        "\n",
        "    return update_box"
      ]
    },
    {
      "cell_type": "code",
      "execution_count": null,
      "metadata": {
        "id": "qfEhpkU2_uwR"
      },
      "outputs": [],
      "source": [
        "import numpy as np\n",
        "from scipy.spatial import distance\n",
        "def calc_motion_efficiency(centre):\n",
        "    steps = len(centre)\n",
        "    disp = distance.euclidean(centre[0], centre[-1])\n",
        "    #print(disp)\n",
        "    moving_length = 0\n",
        "\n",
        "    for step in range(0, steps-1):\n",
        "        dist_step = distance.euclidean(centre[step], centre[step + 1])\n",
        "        #print(dist_step)\n",
        "        moving_length += dist_step\n",
        "\n",
        "    #print(moving_length)\n",
        "    \n",
        "    motion_efficiency = disp/moving_length\n",
        "    return motion_efficiency"
      ]
    },
    {
      "cell_type": "code",
      "execution_count": null,
      "metadata": {
        "id": "LUH98JF3OXff"
      },
      "outputs": [],
      "source": [
        "# Define standard thresholds for calculations\n",
        "\n",
        "sm_p = 0\n",
        "T_mh = 0.2\n",
        "T_ml = 0.1\n",
        "sigma_m = 0.2\n",
        "\n",
        "def cal_S(lambd_pt, T_mh, T_ml, sigma_m, sm_p):\n",
        "\n",
        "    if lambd_pt >= T_mh:\n",
        "        sm = sm_p + lambd_pt\n",
        "    elif lambd_pt < T_ml:\n",
        "        sm = sm_p - sigma_m\n",
        "    else:\n",
        "        sm = sm_p\n",
        "\n",
        "    if sm >= 0:\n",
        "        return sm\n",
        "    else:\n",
        "        return 0\n"
      ]
    },
    {
      "cell_type": "code",
      "execution_count": null,
      "metadata": {
        "id": "KPwK8LIyUT4i"
      },
      "outputs": [],
      "source": [
        "def pose2box(poses):\n",
        "    global seen_bodyparts\n",
        "    \"\"\"\n",
        "    Parameters\n",
        "    ----------\n",
        "    poses: ndarray of human 2D poses [People * BodyPart]\n",
        "    Returns\n",
        "    ----------\n",
        "    boxes: ndarray of containing boxes [People * [x1,y1,x2,y2]]\n",
        "    \"\"\"\n",
        "    \n",
        "    boxes = []\n",
        "    for person in poses:\n",
        "        x = []\n",
        "        y = []\n",
        "        seen_bodyparts = person[np.where((person[:,0] != 0) | (person[:,1] != 0))]\n",
        "        for i, j in seen_bodyparts:\n",
        "            x.append(i)\n",
        "            y.append(j)\n",
        "\n",
        "        #print(nose, RShoulder, LShoulder, RAnkle, LAnkle)\n",
        "\n",
        "        x1 = int(min(x))\n",
        "        x2 = int(max(x))\n",
        "        y1 = int(min(y))\n",
        "        y2 = int(max(y))\n",
        "        \n",
        "        if x1 > 0 and x2 > 0 and y1 > 0 and y2 > 0:\n",
        "            box = [x1, y1 -20, x2, y2 + 5]\n",
        "            boxes.append(box)\n",
        "    return np.array(boxes)"
      ]
    },
    {
      "cell_type": "code",
      "execution_count": null,
      "metadata": {
        "id": "hA_zo4r-XzyL"
      },
      "outputs": [],
      "source": [
        "import glob\n",
        "import re\n",
        "\n",
        "DIRCTORY = \"/content/drive/MyDrive/GDP/Openpose_deepsort/CSA_data/\"\n",
        "files = os.listdir(DIRCTORY)\n",
        "videos = glob.glob1(DIRCTORY,\"*.mp4\")\n",
        "\n",
        "run_videos = []\n",
        "\n",
        "for dir in files:\n",
        "    dir_name = DIRCTORY + dir\n",
        "    videos = glob.glob1(dir_name,\"*.mp4\")\n",
        "    for video in videos:\n",
        "        if video in dataset['filename']:\n",
        "            video_path = dir_name + '/' + video\n",
        "            run_videos.append(video_path)\n"
      ]
    },
    {
      "cell_type": "code",
      "execution_count": null,
      "metadata": {
        "id": "6n715Z5tNlbL"
      },
      "outputs": [],
      "source": [
        "import os\n",
        "import glob\n",
        "import pandas as pd\n",
        "def getListOfFiles(dirName):\n",
        "\n",
        "    # create a list of file and sub directories \n",
        "    # names in the given directory \n",
        "    listOfFile = os.listdir(dirName)\n",
        "    dataset = {}\n",
        "    # Iterate over all the entries\n",
        "    fn = []\n",
        "    label = []\n",
        "    for entry in listOfFile:\n",
        "        # Create full path\n",
        "        fullPath = os.path.join(dirName, entry)\n",
        "\n",
        "        # If entry is a directory then get the list of files in this directory \n",
        "        if entry == 'Normal':\n",
        "            file = glob.glob1(fullPath,\"*.mp4\")\n",
        "            for i in file:\n",
        "                if i.split('_')[1][0] == '1':\n",
        "                    fn.append(i)\n",
        "                    label.append(0)\n",
        "\n",
        "        elif entry == 'Highly Drunk':\n",
        "            file = glob.glob1(fullPath,\"*.mp4\")\n",
        "            for i in file:\n",
        "                fn.append(i)\n",
        "                label.append(1)\n",
        "\n",
        "        dataset['filename'] = fn\n",
        "        dataset['label'] = label\n",
        "\n",
        "    #data = pd.DataFrame(dataset)\n",
        "\n",
        "    return dataset"
      ]
    },
    {
      "cell_type": "code",
      "execution_count": null,
      "metadata": {
        "id": "T_U1FCAuC3et"
      },
      "outputs": [],
      "source": [
        "dataset = getListOfFiles('/content/drive/MyDrive/GDP/Openpose_deepsort/CSA_data/')"
      ]
    },
    {
      "cell_type": "code",
      "execution_count": null,
      "metadata": {
        "id": "TTVaOzlK2Kqv"
      },
      "outputs": [],
      "source": [
        "dataset['pred_label'] = [0, 0, 1, 0, 0, 0, 0, 1, 0, 0, 0, 1, 0, 0, 0, 0, 0, 0, 0, 0, 0, 0, 0, 0, 0]"
      ]
    },
    {
      "cell_type": "code",
      "execution_count": null,
      "metadata": {
        "id": "lt5sQx70DBsb"
      },
      "outputs": [],
      "source": [
        "data = pd.DataFrame(dataset)"
      ]
    },
    {
      "cell_type": "code",
      "execution_count": null,
      "metadata": {
        "id": "Y3lhOwGEeVCv"
      },
      "outputs": [],
      "source": [
        "pred_label = []\n",
        "for video in run_videos[:2]:\n",
        "    cap = cv2.VideoCapture(video)\n",
        "\n",
        "    # Default resolutions of the frame are obtained.The default resolutions are system dependent.\n",
        "    # We convert the resolutions from float to integer.\n",
        "    fps = cap.get(cv2.CAP_PROP_FPS)\n",
        "    frame_width = int(cap.get(cv2.CAP_PROP_FRAME_WIDTH))\n",
        "    frame_height = int(cap.get(cv2.CAP_PROP_FRAME_HEIGHT))\n",
        "\n",
        "    # Define the codec and create VideoWriter object\n",
        "    # fourcc = cv2.VideoWriter_fourcc(*'MP4V')\n",
        "    # out = cv2.VideoWriter('output.avi', \\\n",
        "    #                       fourcc, fps, (frame_width,  frame_height))\n",
        "\n",
        "    #from openpose import *\n",
        "    params = dict()\n",
        "    params[\"model_folder\"] = os.path.join(OpenposeDir,'models')\n",
        "    params[\"net_resolution\"] = \"-1x320\"\n",
        "\n",
        "    # Starting OpenPose\n",
        "    opWrapper = op.WrapperPython()\n",
        "    opWrapper.configure(params)\n",
        "    opWrapper.start()\n",
        "\n",
        "    max_cosine_distance = Constants.max_cosine_distance\n",
        "    nn_budget = Constants.nn_budget\n",
        "    nms_max_overlap = Constants.nms_max_overlap\n",
        "    max_age = Constants.max_age\n",
        "    n_init = Constants.n_init\n",
        "\n",
        "    model_filename = '/content/model_data/mars-small128.pb'\n",
        "    encoder = gdet.create_box_encoder(model_filename,batch_size=1)\n",
        "    metric = nn_matching.NearestNeighborDistanceMetric(\"cosine\", \\\n",
        "                                                    max_cosine_distance, \\\n",
        "                                                    nn_budget)\n",
        "    tracker = DeepTracker(metric)\n",
        "\n",
        "    centroid_dict = defaultdict(list)\n",
        "    object_id_list = []\n",
        "\n",
        "    sm_p = dict()\n",
        "    sm_initial = 0\n",
        "    tracking_frame = 20\n",
        "    starting_line = 300\n",
        "    tracking_line = 50\n",
        "\n",
        "    frames = []\n",
        "    true_label = []\n",
        "\n",
        "    while True:\n",
        "        ret, frame = cap.read()\n",
        "\n",
        "        if ret:\n",
        "            frame = cv2.cvtColor(frame, cv2.COLOR_BGR2RGB)\n",
        "            frame = cv2.rotate(frame, cv2.ROTATE_90_COUNTERCLOCKWISE)\n",
        "            frame = frame[850:1900]\n",
        "            height, width, layers = frame.shape\n",
        "            \n",
        "\n",
        "            datum = op.Datum()\n",
        "            input_image = frame # Change Image Here\n",
        "            datum.cvInputData = input_image\n",
        "            opWrapper.emplaceAndPop(op.VectorDatum([datum]))\n",
        "\n",
        "            #Add openpose results to my current frame\n",
        "            keypoints = Updated_keypoint()\n",
        "            \n",
        "            try:\n",
        "                # Doesn't use keypoint confidence\n",
        "                poses = keypoints[:,:,:2]\n",
        "                # Get containing box for each seen body\n",
        "                boxes = pose2box(poses)\n",
        "                boxes = updated_boxes(boxes, starting_line, height)\n",
        "                boxes_xywh = [[x1,y1,x2-x1,y2-y1] for [x1,y1,x2,y2] in boxes]\n",
        "                features = encoder(input_image, boxes_xywh)\n",
        "\n",
        "                nonempty = lambda xywh: xywh[2] != 0 and xywh[3] != 0\n",
        "                detections = [Detection(bbox, 1.0, feature, pose)\\\n",
        "                            for bbox, feature, pose in zip(boxes_xywh, features, poses)\\\n",
        "                            if nonempty(bbox)]\n",
        "\n",
        "                # Run non-maxima suppression.\n",
        "                boxes_det = np.array([d.tlwh for d in detections])\n",
        "                scores = np.array([d.confidence for d in detections])\n",
        "                indices = preprocessing.non_max_suppression(boxes_det, \\\n",
        "                                                            nms_max_overlap, scores)\n",
        "                detections = [detections[i] for i in indices]\n",
        "\n",
        "                # Using SORT to track the actual frame\n",
        "                tracker.predict()\n",
        "                tracker.update(input_image, detections)\n",
        "                \n",
        "                \n",
        "                for track in tracker.tracks:\n",
        "                    bbox = track.to_tlbr()\n",
        "                    objectID = '{}'.format(track.track_id)\n",
        "                    #print(objectID)\n",
        "                    x1, y1, x2, y2 = bbox\n",
        "\n",
        "                    x1 = int(x1)\n",
        "                    y1 = int(y1)\n",
        "                    x2 = int(x2)\n",
        "                    y2 = int(y2)\n",
        "\n",
        "                    cX = int((x1 + x2) / 2.0)\n",
        "                    cY = int(y2)\n",
        "                    drunk = False\n",
        "                    if (y2 < (height * 90/100) \\\n",
        "                        and  cY > (height * 10/100) \\\n",
        "                        and x1 > 340 and x2 < width - 350):\n",
        "                        centroid_dict[objectID].append((cX, cY))\n",
        "                        #print(len(centroid_dict[objectID]))\n",
        "                        if objectID not in object_id_list:\n",
        "                            object_id_list.append(objectID)\n",
        "                            start_pt = (cX, cY)\n",
        "                            end_pt = (cX, cY)\n",
        "                            cv2.line(input_image, start_pt, end_pt, (0, 255, 0), 2)\n",
        "                        else:\n",
        "                            path = centroid_dict[objectID]\n",
        "                            cal_path = []\n",
        "                            for i in range(0, len(path), 7):\n",
        "                                cal_path.append(path[i])\n",
        "                            #print(cal_path)\n",
        "\n",
        "                            if len(cal_path) > 2 and len(cal_path) < 20:\n",
        "                                #print(len(centroid_dict[objectID]))\n",
        "                                cal_path = np.array(cal_path, np.int32)\n",
        "                                cv2.polylines(input_image, [cal_path.reshape((-1, 1, 2))],\\\n",
        "                                            False, (0,255,255), 3)\n",
        "\n",
        "                            elif  len(cal_path) >= 20:\n",
        "                                #print(len(centroid_dict[objectID]))\n",
        "                                cal_path = np.array(cal_path[-20:-1], np.int32)\n",
        "                                cv2.polylines(input_image, [cal_path.reshape((-1, 1, 2))], \\\n",
        "                                            False, (0,255,255), 3)\n",
        "\n",
        "                            \n",
        "                            cal_path_sm = []\n",
        "                            for i in range(0, len(path), 3):\n",
        "                                cal_path_sm.append(path[i])\n",
        "                            if len(cal_path_sm) > 7:\n",
        "                                motion_efficiency = calc_motion_efficiency(cal_path_sm[-8:-1])\n",
        "                                lambd_pt = 1 - motion_efficiency\n",
        "                                #print(cal_path)\n",
        "\n",
        "                                if  objectID not in sm_p.keys():\n",
        "                                    sm = cal_S(lambd_pt, T_mh, T_ml, sigma_m, sm_initial)\n",
        "                                    sm_p[objectID] = sm\n",
        "                                    drunk = True if sm_p[objectID] > 16 else False\n",
        "                                    #print(objectID, '---------',lambd_pt, sm, sm_p[objectID])\n",
        "                                    \n",
        "                                else:\n",
        "                                    sm = cal_S(lambd_pt, T_mh, T_ml, sigma_m, sm_p[objectID])\n",
        "                                    sm_p[objectID] = sm\n",
        "                                    drunk = True if sm_p[objectID] > 16 else False\n",
        "                                    #print(objectID, '---------',lambd_pt, sm, sm_p[objectID])\n",
        "\n",
        "                    if drunk:\n",
        "                        color = (255,0,0)\n",
        "                        cv2.rectangle(input_image, (x1-40, y1), (x1-10, y2), color, -1)\n",
        "                        text = 'Drunk'\n",
        "                        cv2.putText(input_image, text, (x1, y1-5), cv2.FONT_HERSHEY_COMPLEX_SMALL, 2, color, 2)\n",
        "                        pred_label.append(1)\n",
        "                            \n",
        "                    else:\n",
        "                        pred_label.append(0)\n",
        "                        # color = (255,255,0)\n",
        "                        # cv2.rectangle(input_image, (x1-40, y1), (x1-10, y2), color, -1)\n",
        "                        # text = 'Normal'\n",
        "                        # cv2.putText(input_image, text, (x1, y1-5), cv2.FONT_HERSHEY_COMPLEX_SMALL, 4, (0, 0, 255), 4)\n",
        "            \n",
        "                frames.append(input_image)\n",
        "                plt.imshow(input_image)\n",
        "                plt.show()\n",
        "                \n",
        "            except:\n",
        "                pass\n",
        "\n",
        "        else:\n",
        "            # Break when finished\n",
        "            print(\"Frame Extracting Finished\")\n",
        "            break\n",
        "\n",
        "    # Write Video Frame\n",
        "\n",
        "    cap.release()\n",
        "\n",
        "    height, width, layers = frames[0].shape\n",
        "    size = (width,height)\n",
        "\n",
        "    # Define the codec and create VideoWriter object\n",
        "    name = video + '.avi'\n",
        "    out = cv2.VideoWriter(name ,cv2.VideoWriter_fourcc(*'DIVX'), fps, size)\n",
        "    for i in range(len(frames)):\n",
        "        out.write(frames[i])\n",
        "\n",
        "    # When everything done, release the video capture and video write objects\n",
        "    out.release()"
      ]
    },
    {
      "cell_type": "code",
      "execution_count": null,
      "metadata": {
        "colab": {
          "base_uri": "https://localhost:8080/",
          "height": 311
        },
        "id": "C5noVx5idNY0",
        "outputId": "ce2eb93c-cd87-4a09-adca-e1f43de3d5df"
      },
      "outputs": [
        {
          "output_type": "error",
          "ename": "ValueError",
          "evalue": "ignored",
          "traceback": [
            "\u001b[0;31m---------------------------------------------------------------------------\u001b[0m",
            "\u001b[0;31mValueError\u001b[0m                                Traceback (most recent call last)",
            "\u001b[0;32m<ipython-input-25-48f4329eaa70>\u001b[0m in \u001b[0;36m<module>\u001b[0;34m()\u001b[0m\n\u001b[0;32m----> 1\u001b[0;31m \u001b[0mdata\u001b[0m\u001b[0;34m[\u001b[0m\u001b[0;34m'pred_label'\u001b[0m\u001b[0;34m]\u001b[0m \u001b[0;34m=\u001b[0m \u001b[0mpred_label\u001b[0m\u001b[0;34m\u001b[0m\u001b[0;34m\u001b[0m\u001b[0m\n\u001b[0m",
            "\u001b[0;32m/usr/local/lib/python3.7/dist-packages/pandas/core/frame.py\u001b[0m in \u001b[0;36m__setitem__\u001b[0;34m(self, key, value)\u001b[0m\n\u001b[1;32m   3610\u001b[0m         \u001b[0;32melse\u001b[0m\u001b[0;34m:\u001b[0m\u001b[0;34m\u001b[0m\u001b[0;34m\u001b[0m\u001b[0m\n\u001b[1;32m   3611\u001b[0m             \u001b[0;31m# set column\u001b[0m\u001b[0;34m\u001b[0m\u001b[0;34m\u001b[0m\u001b[0;34m\u001b[0m\u001b[0m\n\u001b[0;32m-> 3612\u001b[0;31m             \u001b[0mself\u001b[0m\u001b[0;34m.\u001b[0m\u001b[0m_set_item\u001b[0m\u001b[0;34m(\u001b[0m\u001b[0mkey\u001b[0m\u001b[0;34m,\u001b[0m \u001b[0mvalue\u001b[0m\u001b[0;34m)\u001b[0m\u001b[0;34m\u001b[0m\u001b[0;34m\u001b[0m\u001b[0m\n\u001b[0m\u001b[1;32m   3613\u001b[0m \u001b[0;34m\u001b[0m\u001b[0m\n\u001b[1;32m   3614\u001b[0m     \u001b[0;32mdef\u001b[0m \u001b[0m_setitem_slice\u001b[0m\u001b[0;34m(\u001b[0m\u001b[0mself\u001b[0m\u001b[0;34m,\u001b[0m \u001b[0mkey\u001b[0m\u001b[0;34m:\u001b[0m \u001b[0mslice\u001b[0m\u001b[0;34m,\u001b[0m \u001b[0mvalue\u001b[0m\u001b[0;34m)\u001b[0m\u001b[0;34m:\u001b[0m\u001b[0;34m\u001b[0m\u001b[0;34m\u001b[0m\u001b[0m\n",
            "\u001b[0;32m/usr/local/lib/python3.7/dist-packages/pandas/core/frame.py\u001b[0m in \u001b[0;36m_set_item\u001b[0;34m(self, key, value)\u001b[0m\n\u001b[1;32m   3782\u001b[0m         \u001b[0mensure\u001b[0m \u001b[0mhomogeneity\u001b[0m\u001b[0;34m.\u001b[0m\u001b[0;34m\u001b[0m\u001b[0;34m\u001b[0m\u001b[0m\n\u001b[1;32m   3783\u001b[0m         \"\"\"\n\u001b[0;32m-> 3784\u001b[0;31m         \u001b[0mvalue\u001b[0m \u001b[0;34m=\u001b[0m \u001b[0mself\u001b[0m\u001b[0;34m.\u001b[0m\u001b[0m_sanitize_column\u001b[0m\u001b[0;34m(\u001b[0m\u001b[0mvalue\u001b[0m\u001b[0;34m)\u001b[0m\u001b[0;34m\u001b[0m\u001b[0;34m\u001b[0m\u001b[0m\n\u001b[0m\u001b[1;32m   3785\u001b[0m \u001b[0;34m\u001b[0m\u001b[0m\n\u001b[1;32m   3786\u001b[0m         if (\n",
            "\u001b[0;32m/usr/local/lib/python3.7/dist-packages/pandas/core/frame.py\u001b[0m in \u001b[0;36m_sanitize_column\u001b[0;34m(self, value)\u001b[0m\n\u001b[1;32m   4507\u001b[0m \u001b[0;34m\u001b[0m\u001b[0m\n\u001b[1;32m   4508\u001b[0m         \u001b[0;32mif\u001b[0m \u001b[0mis_list_like\u001b[0m\u001b[0;34m(\u001b[0m\u001b[0mvalue\u001b[0m\u001b[0;34m)\u001b[0m\u001b[0;34m:\u001b[0m\u001b[0;34m\u001b[0m\u001b[0;34m\u001b[0m\u001b[0m\n\u001b[0;32m-> 4509\u001b[0;31m             \u001b[0mcom\u001b[0m\u001b[0;34m.\u001b[0m\u001b[0mrequire_length_match\u001b[0m\u001b[0;34m(\u001b[0m\u001b[0mvalue\u001b[0m\u001b[0;34m,\u001b[0m \u001b[0mself\u001b[0m\u001b[0;34m.\u001b[0m\u001b[0mindex\u001b[0m\u001b[0;34m)\u001b[0m\u001b[0;34m\u001b[0m\u001b[0;34m\u001b[0m\u001b[0m\n\u001b[0m\u001b[1;32m   4510\u001b[0m         \u001b[0;32mreturn\u001b[0m \u001b[0msanitize_array\u001b[0m\u001b[0;34m(\u001b[0m\u001b[0mvalue\u001b[0m\u001b[0;34m,\u001b[0m \u001b[0mself\u001b[0m\u001b[0;34m.\u001b[0m\u001b[0mindex\u001b[0m\u001b[0;34m,\u001b[0m \u001b[0mcopy\u001b[0m\u001b[0;34m=\u001b[0m\u001b[0;32mTrue\u001b[0m\u001b[0;34m,\u001b[0m \u001b[0mallow_2d\u001b[0m\u001b[0;34m=\u001b[0m\u001b[0;32mTrue\u001b[0m\u001b[0;34m)\u001b[0m\u001b[0;34m\u001b[0m\u001b[0;34m\u001b[0m\u001b[0m\n\u001b[1;32m   4511\u001b[0m \u001b[0;34m\u001b[0m\u001b[0m\n",
            "\u001b[0;32m/usr/local/lib/python3.7/dist-packages/pandas/core/common.py\u001b[0m in \u001b[0;36mrequire_length_match\u001b[0;34m(data, index)\u001b[0m\n\u001b[1;32m    530\u001b[0m     \u001b[0;32mif\u001b[0m \u001b[0mlen\u001b[0m\u001b[0;34m(\u001b[0m\u001b[0mdata\u001b[0m\u001b[0;34m)\u001b[0m \u001b[0;34m!=\u001b[0m \u001b[0mlen\u001b[0m\u001b[0;34m(\u001b[0m\u001b[0mindex\u001b[0m\u001b[0;34m)\u001b[0m\u001b[0;34m:\u001b[0m\u001b[0;34m\u001b[0m\u001b[0;34m\u001b[0m\u001b[0m\n\u001b[1;32m    531\u001b[0m         raise ValueError(\n\u001b[0;32m--> 532\u001b[0;31m             \u001b[0;34m\"Length of values \"\u001b[0m\u001b[0;34m\u001b[0m\u001b[0;34m\u001b[0m\u001b[0m\n\u001b[0m\u001b[1;32m    533\u001b[0m             \u001b[0;34mf\"({len(data)}) \"\u001b[0m\u001b[0;34m\u001b[0m\u001b[0;34m\u001b[0m\u001b[0m\n\u001b[1;32m    534\u001b[0m             \u001b[0;34m\"does not match length of index \"\u001b[0m\u001b[0;34m\u001b[0m\u001b[0;34m\u001b[0m\u001b[0m\n",
            "\u001b[0;31mValueError\u001b[0m: Length of values (0) does not match length of index (25)"
          ]
        }
      ],
      "source": [
        "data['pred_label'] = pred_label"
      ]
    },
    {
      "cell_type": "code",
      "execution_count": null,
      "metadata": {
        "id": "C0lwN1M20uh_"
      },
      "outputs": [],
      "source": [
        "import seaborn as sns\n",
        "from sklearn import metrics\n",
        "\n",
        "def bin_metrics(y_test, y_pred):\n",
        "    \n",
        "    fpr, tpr, thresh_roc = metrics.roc_curve(y_test, y_pred)\n",
        "    roc_auc = metrics.auc(fpr, tpr)\n",
        "    \n",
        "    print('-----------------------------------------------------------')\n",
        "    print('Confusion Matrix:')\n",
        "    print(metrics.confusion_matrix(y_test, y_pred))\n",
        "    print('\\nClassification Report:')\n",
        "    print(metrics.classification_report(y_test, y_pred))\n",
        "\n",
        "\n",
        "    sns.heatmap(metrics.confusion_matrix(y_test, y_pred), annot = True)\n",
        "    plt.show()\n",
        "    plt.title('Receiver Operating Characteristic')\n",
        "    plt.plot(fpr, tpr,  label = 'AUC = %0.2f' % roc_auc)\n",
        "    plt.legend(loc = 'lower right')\n",
        "    plt.plot([0, 1], [0, 1],'r--')\n",
        "    plt.ylabel('True Positive Rate')\n",
        "    plt.xlabel('False Positive Rate')\n",
        "    plt.show()\n"
      ]
    },
    {
      "cell_type": "code",
      "execution_count": null,
      "metadata": {
        "colab": {
          "base_uri": "https://localhost:8080/",
          "height": 287
        },
        "id": "FAFx-x0N9B32",
        "outputId": "3cf83321-53b0-49ad-96a0-3b469cbd3fca"
      },
      "outputs": [
        {
          "output_type": "error",
          "ename": "AttributeError",
          "evalue": "ignored",
          "traceback": [
            "\u001b[0;31m---------------------------------------------------------------------------\u001b[0m",
            "\u001b[0;31mAttributeError\u001b[0m                            Traceback (most recent call last)",
            "\u001b[0;32m<ipython-input-36-cb3ed2225200>\u001b[0m in \u001b[0;36m<module>\u001b[0;34m()\u001b[0m\n\u001b[0;32m----> 1\u001b[0;31m \u001b[0mbin_metrics\u001b[0m\u001b[0;34m(\u001b[0m\u001b[0mdata\u001b[0m\u001b[0;34m.\u001b[0m\u001b[0mlabel\u001b[0m\u001b[0;34m,\u001b[0m \u001b[0mdata\u001b[0m\u001b[0;34m.\u001b[0m\u001b[0mpred_label\u001b[0m\u001b[0;34m)\u001b[0m\u001b[0;34m\u001b[0m\u001b[0;34m\u001b[0m\u001b[0m\n\u001b[0m",
            "\u001b[0;32m/usr/local/lib/python3.7/dist-packages/pandas/core/generic.py\u001b[0m in \u001b[0;36m__getattr__\u001b[0;34m(self, name)\u001b[0m\n\u001b[1;32m   5485\u001b[0m         ):\n\u001b[1;32m   5486\u001b[0m             \u001b[0;32mreturn\u001b[0m \u001b[0mself\u001b[0m\u001b[0;34m[\u001b[0m\u001b[0mname\u001b[0m\u001b[0;34m]\u001b[0m\u001b[0;34m\u001b[0m\u001b[0;34m\u001b[0m\u001b[0m\n\u001b[0;32m-> 5487\u001b[0;31m         \u001b[0;32mreturn\u001b[0m \u001b[0mobject\u001b[0m\u001b[0;34m.\u001b[0m\u001b[0m__getattribute__\u001b[0m\u001b[0;34m(\u001b[0m\u001b[0mself\u001b[0m\u001b[0;34m,\u001b[0m \u001b[0mname\u001b[0m\u001b[0;34m)\u001b[0m\u001b[0;34m\u001b[0m\u001b[0;34m\u001b[0m\u001b[0m\n\u001b[0m\u001b[1;32m   5488\u001b[0m \u001b[0;34m\u001b[0m\u001b[0m\n\u001b[1;32m   5489\u001b[0m     \u001b[0;32mdef\u001b[0m \u001b[0m__setattr__\u001b[0m\u001b[0;34m(\u001b[0m\u001b[0mself\u001b[0m\u001b[0;34m,\u001b[0m \u001b[0mname\u001b[0m\u001b[0;34m:\u001b[0m \u001b[0mstr\u001b[0m\u001b[0;34m,\u001b[0m \u001b[0mvalue\u001b[0m\u001b[0;34m)\u001b[0m \u001b[0;34m->\u001b[0m \u001b[0;32mNone\u001b[0m\u001b[0;34m:\u001b[0m\u001b[0;34m\u001b[0m\u001b[0;34m\u001b[0m\u001b[0m\n",
            "\u001b[0;31mAttributeError\u001b[0m: 'DataFrame' object has no attribute 'pred_label'"
          ]
        }
      ],
      "source": [
        "bin_metrics(data.label, data.pred_label)"
      ]
    },
    {
      "cell_type": "code",
      "execution_count": null,
      "metadata": {
        "id": "g9FvS5Yt9L8I"
      },
      "outputs": [],
      "source": [
        ""
      ]
    }
  ],
  "metadata": {
    "accelerator": "GPU",
    "colab": {
      "collapsed_sections": [],
      "name": "Detect_drunk_behaviour_OpenPose.ipynb",
      "provenance": []
    },
    "kernelspec": {
      "display_name": "Python 3",
      "name": "python3"
    }
  },
  "nbformat": 4,
  "nbformat_minor": 0
}